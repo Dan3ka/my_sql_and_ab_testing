{
 "cells": [
  {
   "cell_type": "markdown",
   "id": "8d984b6c",
   "metadata": {},
   "source": [
    "## Exercise 03. Aggregations"
   ]
  },
  {
   "cell_type": "markdown",
   "id": "454e4012",
   "metadata": {},
   "source": [
    "1. Create a connection to the database using the `sqlite3` library.\n",
    "2. Get the schema of the `test` table.\n",
    "3. Get only the first ten rows of the `test` table to see what it looks like."
   ]
  },
  {
   "cell_type": "code",
   "execution_count": 1,
   "id": "36d91904",
   "metadata": {},
   "outputs": [
    {
     "data": {
      "text/html": [
       "<div>\n",
       "<style scoped>\n",
       "    .dataframe tbody tr th:only-of-type {\n",
       "        vertical-align: middle;\n",
       "    }\n",
       "\n",
       "    .dataframe tbody tr th {\n",
       "        vertical-align: top;\n",
       "    }\n",
       "\n",
       "    .dataframe thead th {\n",
       "        text-align: right;\n",
       "    }\n",
       "</style>\n",
       "<table border=\"1\" class=\"dataframe\">\n",
       "  <thead>\n",
       "    <tr style=\"text-align: right;\">\n",
       "      <th></th>\n",
       "      <th>cid</th>\n",
       "      <th>name</th>\n",
       "      <th>type</th>\n",
       "      <th>notnull</th>\n",
       "      <th>dflt_value</th>\n",
       "      <th>pk</th>\n",
       "    </tr>\n",
       "  </thead>\n",
       "  <tbody>\n",
       "    <tr>\n",
       "      <th>0</th>\n",
       "      <td>0</td>\n",
       "      <td>index</td>\n",
       "      <td>INTEGER</td>\n",
       "      <td>0</td>\n",
       "      <td>None</td>\n",
       "      <td>0</td>\n",
       "    </tr>\n",
       "    <tr>\n",
       "      <th>1</th>\n",
       "      <td>1</td>\n",
       "      <td>uid</td>\n",
       "      <td>TEXT</td>\n",
       "      <td>0</td>\n",
       "      <td>None</td>\n",
       "      <td>0</td>\n",
       "    </tr>\n",
       "    <tr>\n",
       "      <th>2</th>\n",
       "      <td>2</td>\n",
       "      <td>labname</td>\n",
       "      <td>TEXT</td>\n",
       "      <td>0</td>\n",
       "      <td>None</td>\n",
       "      <td>0</td>\n",
       "    </tr>\n",
       "    <tr>\n",
       "      <th>3</th>\n",
       "      <td>3</td>\n",
       "      <td>first_commit_ts</td>\n",
       "      <td>TIMESTAMP</td>\n",
       "      <td>0</td>\n",
       "      <td>None</td>\n",
       "      <td>0</td>\n",
       "    </tr>\n",
       "    <tr>\n",
       "      <th>4</th>\n",
       "      <td>4</td>\n",
       "      <td>first_view_ts</td>\n",
       "      <td>TIMESTAMP</td>\n",
       "      <td>0</td>\n",
       "      <td>None</td>\n",
       "      <td>0</td>\n",
       "    </tr>\n",
       "  </tbody>\n",
       "</table>\n",
       "</div>"
      ],
      "text/plain": [
       "   cid             name       type  notnull dflt_value  pk\n",
       "0    0            index    INTEGER        0       None   0\n",
       "1    1              uid       TEXT        0       None   0\n",
       "2    2          labname       TEXT        0       None   0\n",
       "3    3  first_commit_ts  TIMESTAMP        0       None   0\n",
       "4    4    first_view_ts  TIMESTAMP        0       None   0"
      ]
     },
     "execution_count": 1,
     "metadata": {},
     "output_type": "execute_result"
    }
   ],
   "source": [
    "import pandas as pd\n",
    "import sqlite3\n",
    "\n",
    "con=sqlite3.connect('data/checking-logs.sqlite')\n",
    "scheme_test=pd.read_sql(\"\"\"PRAGMA table_info(test)\"\"\", con)\n",
    "scheme_test\n"
   ]
  },
  {
   "cell_type": "code",
   "execution_count": 2,
   "id": "85f8707e",
   "metadata": {},
   "outputs": [
    {
     "name": "stdout",
     "output_type": "stream",
     "text": [
      "<class 'pandas.core.frame.DataFrame'>\n",
      "RangeIndex: 10 entries, 0 to 9\n",
      "Data columns (total 5 columns):\n",
      " #   Column           Non-Null Count  Dtype \n",
      "---  ------           --------------  ----- \n",
      " 0   index            10 non-null     int64 \n",
      " 1   uid              10 non-null     object\n",
      " 2   labname          10 non-null     object\n",
      " 3   first_commit_ts  10 non-null     object\n",
      " 4   first_view_ts    10 non-null     object\n",
      "dtypes: int64(1), object(4)\n",
      "memory usage: 532.0+ bytes\n"
     ]
    }
   ],
   "source": [
    "test_10_rows=pd.read_sql(\"\"\" SELECT * FROM test LIMIT 10\"\"\", con)\n",
    "test_10_rows.info()"
   ]
  },
  {
   "cell_type": "markdown",
   "id": "74db853b",
   "metadata": {},
   "source": [
    "4. Find the minimum value of the delta between the first commit and the deadline of the corresponding lab for all users using only one query.\n",
    "   - Do this by joining the table with the `deadlines` table.\n",
    "   - The difference should be displayed in hours.\n",
    "   - Do not take lab `project1` into account; it has longer deadlines and will be an outlier.\n",
    "   - The value should be stored in the dataframe `df_min` with the corresponding uid."
   ]
  },
  {
   "cell_type": "code",
   "execution_count": 3,
   "id": "1ccee1f7",
   "metadata": {},
   "outputs": [
    {
     "data": {
      "text/html": [
       "<div>\n",
       "<style scoped>\n",
       "    .dataframe tbody tr th:only-of-type {\n",
       "        vertical-align: middle;\n",
       "    }\n",
       "\n",
       "    .dataframe tbody tr th {\n",
       "        vertical-align: top;\n",
       "    }\n",
       "\n",
       "    .dataframe thead th {\n",
       "        text-align: right;\n",
       "    }\n",
       "</style>\n",
       "<table border=\"1\" class=\"dataframe\">\n",
       "  <thead>\n",
       "    <tr style=\"text-align: right;\">\n",
       "      <th></th>\n",
       "      <th>uid</th>\n",
       "      <th>delta_time</th>\n",
       "    </tr>\n",
       "  </thead>\n",
       "  <tbody>\n",
       "    <tr>\n",
       "      <th>0</th>\n",
       "      <td>user_30</td>\n",
       "      <td>202.385</td>\n",
       "    </tr>\n",
       "  </tbody>\n",
       "</table>\n",
       "</div>"
      ],
      "text/plain": [
       "       uid  delta_time\n",
       "0  user_30     202.385"
      ]
     },
     "execution_count": 3,
     "metadata": {},
     "output_type": "execute_result"
    }
   ],
   "source": [
    "query_min_delta=\"\"\"\n",
    "SELECT uid,  (JULIANDAY(datetime(deadlines.deadlines, 'unixepoch'))-JULIANDAY(test.first_commit_ts))*24 AS delta_time \n",
    "FROM test JOIN deadlines ON test.labname=deadlines.labs\n",
    "WHERE test.labname != 'project1'\n",
    "        AND\n",
    "    test.first_commit_ts IS NOT NULL\n",
    "    \n",
    "ORDER BY delta_time DESC\n",
    "LIMIT 1\n",
    "\"\"\"\n",
    "df_min=pd.read_sql(query_min_delta, con)\n",
    "df_min\n"
   ]
  },
  {
   "cell_type": "markdown",
   "id": "ae4a408f",
   "metadata": {},
   "source": [
    "5. Do the same thing for the maximum, but use only one query. The dataframe name is `df_max`."
   ]
  },
  {
   "cell_type": "code",
   "execution_count": 4,
   "id": "fdef26da",
   "metadata": {},
   "outputs": [
    {
     "data": {
      "text/html": [
       "<div>\n",
       "<style scoped>\n",
       "    .dataframe tbody tr th:only-of-type {\n",
       "        vertical-align: middle;\n",
       "    }\n",
       "\n",
       "    .dataframe tbody tr th {\n",
       "        vertical-align: top;\n",
       "    }\n",
       "\n",
       "    .dataframe thead th {\n",
       "        text-align: right;\n",
       "    }\n",
       "</style>\n",
       "<table border=\"1\" class=\"dataframe\">\n",
       "  <thead>\n",
       "    <tr style=\"text-align: right;\">\n",
       "      <th></th>\n",
       "      <th>uid</th>\n",
       "      <th>delta</th>\n",
       "    </tr>\n",
       "  </thead>\n",
       "  <tbody>\n",
       "    <tr>\n",
       "      <th>0</th>\n",
       "      <td>user_25</td>\n",
       "      <td>2.8675</td>\n",
       "    </tr>\n",
       "  </tbody>\n",
       "</table>\n",
       "</div>"
      ],
      "text/plain": [
       "       uid   delta\n",
       "0  user_25  2.8675"
      ]
     },
     "execution_count": 4,
     "metadata": {},
     "output_type": "execute_result"
    }
   ],
   "source": [
    "query_max=\"\"\"\n",
    "SELECT \n",
    "    uid, (JULIANDAY(datetime(deadlines.deadlines, 'unixepoch'))-JULIANDAY(test.first_commit_ts))*24 AS delta\n",
    "FROM test JOIN deadlines ON test.labname=deadlines.labs\n",
    "    WHERE test.labname!='project1'\n",
    "ORDER BY delta ASC\n",
    "LIMIT 1\n",
    "\"\"\"\n",
    "df_max=pd.read_sql(query_max, con)\n",
    "df_max"
   ]
  },
  {
   "cell_type": "markdown",
   "id": "e377cabe",
   "metadata": {},
   "source": [
    "6. Do the same thing, but for the average. Use only one query. This time, your dataframe should not include the uid column. The dataframe name is `df_avg`."
   ]
  },
  {
   "cell_type": "code",
   "execution_count": 5,
   "id": "c3ff69b8",
   "metadata": {},
   "outputs": [
    {
     "data": {
      "text/html": [
       "<div>\n",
       "<style scoped>\n",
       "    .dataframe tbody tr th:only-of-type {\n",
       "        vertical-align: middle;\n",
       "    }\n",
       "\n",
       "    .dataframe tbody tr th {\n",
       "        vertical-align: top;\n",
       "    }\n",
       "\n",
       "    .dataframe thead th {\n",
       "        text-align: right;\n",
       "    }\n",
       "</style>\n",
       "<table border=\"1\" class=\"dataframe\">\n",
       "  <thead>\n",
       "    <tr style=\"text-align: right;\">\n",
       "      <th></th>\n",
       "      <th>avg</th>\n",
       "    </tr>\n",
       "  </thead>\n",
       "  <tbody>\n",
       "    <tr>\n",
       "      <th>0</th>\n",
       "      <td>89.687841</td>\n",
       "    </tr>\n",
       "  </tbody>\n",
       "</table>\n",
       "</div>"
      ],
      "text/plain": [
       "         avg\n",
       "0  89.687841"
      ]
     },
     "execution_count": 5,
     "metadata": {},
     "output_type": "execute_result"
    }
   ],
   "source": [
    "query_avg=\"\"\"\n",
    "SELECT  AVG(JULIANDAY(datetime(deadlines.deadlines, 'unixepoch'))-JULIANDAY(test.first_commit_ts))*24 AS avg\n",
    "FROM test JOIN deadlines ON test.labname=deadlines.labs\n",
    "WHERE deadlines.labs!='project1'\n",
    "LIMIT 1\n",
    "\"\"\"\n",
    "df_avg=pd.read_sql(query_avg, con)\n",
    "df_avg"
   ]
  },
  {
   "cell_type": "markdown",
   "id": "d37b5e03",
   "metadata": {},
   "source": [
    "7. We want to test the hypothesis that users who visited the newsfeed just a few times have a lower delta between the first commit and the deadline. To do this, calculate the correlation coefficient between the number of pageviews and the difference.\n",
    "   - Using only one query, create a table with the following columns: \"uid\", \"avg_diff\", and \"pageviews\".\n",
    "   - \"uid\" is the uids that exist in the `test`.\n",
    "   - \"avg_diff\" is the average delta between the first commit and the lab deadline per user.\n",
    "   - \"pageviews\" is the number of Newsfeed visits per user.\n",
    "   - Do not take the lab `project1` into account.\n",
    "   - Store it in the dataframe `views_diff`.\n",
    "   - Use the Pandas `corr()` method to calculate the correlation coefficient between the number of pageviews and the difference."
   ]
  },
  {
   "cell_type": "code",
   "execution_count": 6,
   "id": "7d3d304e",
   "metadata": {},
   "outputs": [
    {
     "data": {
      "text/html": [
       "<div>\n",
       "<style scoped>\n",
       "    .dataframe tbody tr th:only-of-type {\n",
       "        vertical-align: middle;\n",
       "    }\n",
       "\n",
       "    .dataframe tbody tr th {\n",
       "        vertical-align: top;\n",
       "    }\n",
       "\n",
       "    .dataframe thead th {\n",
       "        text-align: right;\n",
       "    }\n",
       "</style>\n",
       "<table border=\"1\" class=\"dataframe\">\n",
       "  <thead>\n",
       "    <tr style=\"text-align: right;\">\n",
       "      <th></th>\n",
       "      <th>avg_diff</th>\n",
       "      <th>page_views</th>\n",
       "    </tr>\n",
       "  </thead>\n",
       "  <tbody>\n",
       "    <tr>\n",
       "      <th>avg_diff</th>\n",
       "      <td>1.000000</td>\n",
       "      <td>0.020042</td>\n",
       "    </tr>\n",
       "    <tr>\n",
       "      <th>page_views</th>\n",
       "      <td>0.020042</td>\n",
       "      <td>1.000000</td>\n",
       "    </tr>\n",
       "  </tbody>\n",
       "</table>\n",
       "</div>"
      ],
      "text/plain": [
       "            avg_diff  page_views\n",
       "avg_diff    1.000000    0.020042\n",
       "page_views  0.020042    1.000000"
      ]
     },
     "execution_count": 6,
     "metadata": {},
     "output_type": "execute_result"
    }
   ],
   "source": [
    "query_for_corr=\"\"\"\n",
    "SELECT \n",
    "    test.uid, \n",
    "    (strftime('%s',test.first_commit_ts)-strftime('%s', deadlines.deadlines, 'unixepoch'))/3600 as avg_diff,\n",
    "    COUNT( pageviews.datetime) AS page_views\n",
    "FROM test \n",
    "JOIN deadlines ON test.labname=deadlines.labs\n",
    "JOIN pageviews ON test.uid=pageviews.uid \n",
    "    WHERE test.labname!='project1'\n",
    "GROUP BY test.uid\n",
    "\"\"\"\n",
    "\n",
    "views_diff=pd.read_sql(query_for_corr, con)\n",
    "\n",
    "cor=views_diff.corr(numeric_only=True)\n",
    "cor"
   ]
  },
  {
   "cell_type": "code",
   "execution_count": 7,
   "id": "4bcba46b",
   "metadata": {},
   "outputs": [],
   "source": [
    "con.close()"
   ]
  }
 ],
 "metadata": {
  "kernelspec": {
   "display_name": "cybernea",
   "language": "python",
   "name": "python3"
  },
  "language_info": {
   "codemirror_mode": {
    "name": "ipython",
    "version": 3
   },
   "file_extension": ".py",
   "mimetype": "text/x-python",
   "name": "python",
   "nbconvert_exporter": "python",
   "pygments_lexer": "ipython3",
   "version": "3.12.3"
  }
 },
 "nbformat": 4,
 "nbformat_minor": 5
}
