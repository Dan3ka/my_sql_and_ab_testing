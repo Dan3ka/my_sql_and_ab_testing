{
 "cells": [
  {
   "cell_type": "markdown",
   "id": "344b6ab9",
   "metadata": {},
   "source": [
    "## Exercise 04. A/B TESTING\n"
   ]
  },
  {
   "cell_type": "markdown",
   "id": "4a583212",
   "metadata": {},
   "source": [
    "1. Create a connection to the database using the `sqlite3` library.\n",
    "2. Using only one query for each group, create two dataframes: `test_results` and `control_results`, with the columns \"time\" and \"avg_diff\", and only two rows.\n",
    "   - \"time\" should have the values after and before.\n",
    "   - \"avg_diff\" should contain the average delta for all users for the time period before and after their first visit to the page.\n",
    "   - Only take into account users with observations before and after.\n",
    "3. We are still not using the lab `project1`.\n",
    "4. Close the connection.\n",
    "5. Have the answer: Did the hypothesis turn out to be true, and does the page affect students' behavior?"
   ]
  },
  {
   "cell_type": "code",
   "execution_count": null,
   "id": "953968a2",
   "metadata": {},
   "outputs": [
    {
     "data": {
      "text/html": [
       "<div>\n",
       "<style scoped>\n",
       "    .dataframe tbody tr th:only-of-type {\n",
       "        vertical-align: middle;\n",
       "    }\n",
       "\n",
       "    .dataframe tbody tr th {\n",
       "        vertical-align: top;\n",
       "    }\n",
       "\n",
       "    .dataframe thead th {\n",
       "        text-align: right;\n",
       "    }\n",
       "</style>\n",
       "<table border=\"1\" class=\"dataframe\">\n",
       "  <thead>\n",
       "    <tr style=\"text-align: right;\">\n",
       "      <th></th>\n",
       "      <th>time</th>\n",
       "      <th>avg(diff)</th>\n",
       "    </tr>\n",
       "  </thead>\n",
       "  <tbody>\n",
       "    <tr>\n",
       "      <th>0</th>\n",
       "      <td>after</td>\n",
       "      <td>-99.523810</td>\n",
       "    </tr>\n",
       "    <tr>\n",
       "      <th>1</th>\n",
       "      <td>before</td>\n",
       "      <td>-66.047619</td>\n",
       "    </tr>\n",
       "  </tbody>\n",
       "</table>\n",
       "</div>"
      ],
      "text/plain": [
       "     time  avg(diff)\n",
       "0   after -99.523810\n",
       "1  before -66.047619"
      ]
     },
     "execution_count": 8,
     "metadata": {},
     "output_type": "execute_result"
    }
   ],
   "source": [
    "import pandas as pd\n",
    "import sqlite3 \n",
    "\n",
    "con=sqlite3.connect('data/checking-logs.sqlite')\n",
    "\n",
    "query_test = \"\"\"\n",
    "WITH dif AS (\n",
    "    SELECT \n",
    "        t.uid,\n",
    "        CASE\n",
    "            WHEN JULIANDAY(t.first_commit_ts) > JULIANDAY(t.first_view_ts) THEN 'after'\n",
    "            ELSE 'before'\n",
    "        END AS time,\n",
    "        AVG((strftime('%s', t.first_commit_ts) - strftime('%s', d.deadlines, 'unixepoch')) / 3600) AS avg_diff\n",
    "    FROM test t\n",
    "    JOIN deadlines d ON t.labname = d.labs\n",
    "    WHERE t.labname != 'project1'\n",
    "    GROUP BY t.uid, time\n",
    ")\n",
    "SELECT time, AVG(avg_diff) AS 'avg(diff)'\n",
    "FROM dif\n",
    "WHERE uid IN (\n",
    "    SELECT uid\n",
    "    FROM dif\n",
    "    GROUP BY uid\n",
    "    HAVING COUNT(DISTINCT time) = 2\n",
    ")\n",
    "GROUP BY time\n",
    "\"\"\"\n",
    "test_results=pd.read_sql(query_test, con)\n",
    "test_results"
   ]
  },
  {
   "cell_type": "code",
   "execution_count": null,
   "id": "e822d6fa",
   "metadata": {},
   "outputs": [
    {
     "data": {
      "text/html": [
       "<div>\n",
       "<style scoped>\n",
       "    .dataframe tbody tr th:only-of-type {\n",
       "        vertical-align: middle;\n",
       "    }\n",
       "\n",
       "    .dataframe tbody tr th {\n",
       "        vertical-align: top;\n",
       "    }\n",
       "\n",
       "    .dataframe thead th {\n",
       "        text-align: right;\n",
       "    }\n",
       "</style>\n",
       "<table border=\"1\" class=\"dataframe\">\n",
       "  <thead>\n",
       "    <tr style=\"text-align: right;\">\n",
       "      <th></th>\n",
       "      <th>time</th>\n",
       "      <th>avg(diff)</th>\n",
       "    </tr>\n",
       "  </thead>\n",
       "  <tbody>\n",
       "    <tr>\n",
       "      <th>0</th>\n",
       "      <td>after</td>\n",
       "      <td>-99.322222</td>\n",
       "    </tr>\n",
       "    <tr>\n",
       "      <th>1</th>\n",
       "      <td>before</td>\n",
       "      <td>-98.033333</td>\n",
       "    </tr>\n",
       "  </tbody>\n",
       "</table>\n",
       "</div>"
      ],
      "text/plain": [
       "     time  avg(diff)\n",
       "0   after -99.322222\n",
       "1  before -98.033333"
      ]
     },
     "execution_count": 9,
     "metadata": {},
     "output_type": "execute_result"
    }
   ],
   "source": [
    "import pandas as pd\n",
    "import sqlite3 \n",
    "\n",
    "con=sqlite3.connect('../data/checking-logs.sqlite')\n",
    "\n",
    "query_control = \"\"\"\n",
    "WITH dif AS (\n",
    "    SELECT \n",
    "        c.uid,\n",
    "        CASE\n",
    "            WHEN JULIANDAY(c.first_commit_ts) > JULIANDAY(c.first_view_ts) THEN 'after'\n",
    "            ELSE 'before'\n",
    "        END AS time,\n",
    "        AVG((strftime('%s', c.first_commit_ts) - strftime('%s', d.deadlines, 'unixepoch')) / 3600) AS avg_diff\n",
    "    FROM control c\n",
    "    JOIN deadlines d ON c.labname = d.labs\n",
    "    WHERE c.labname != 'project1'\n",
    "    GROUP BY c.uid, time\n",
    ")\n",
    "SELECT time, AVG(avg_diff) AS 'avg(diff)'\n",
    "FROM dif\n",
    "WHERE uid IN (\n",
    "    SELECT uid\n",
    "    FROM dif\n",
    "    GROUP BY uid\n",
    "    HAVING COUNT(DISTINCT time) = 2\n",
    ")\n",
    "GROUP BY time\n",
    "\"\"\"\n",
    "control_results=pd.read_sql(query_control, con)\n",
    "control_results"
   ]
  },
  {
   "cell_type": "code",
   "execution_count": 10,
   "id": "c2b44ac7",
   "metadata": {},
   "outputs": [],
   "source": [
    "con.close()"
   ]
  },
  {
   "cell_type": "markdown",
   "id": "6edeec74",
   "metadata": {},
   "source": [
    "answer=YES"
   ]
  }
 ],
 "metadata": {
  "kernelspec": {
   "display_name": "cybernea",
   "language": "python",
   "name": "python3"
  },
  "language_info": {
   "codemirror_mode": {
    "name": "ipython",
    "version": 3
   },
   "file_extension": ".py",
   "mimetype": "text/x-python",
   "name": "python",
   "nbconvert_exporter": "python",
   "pygments_lexer": "ipython3",
   "version": "3.12.3"
  }
 },
 "nbformat": 4,
 "nbformat_minor": 5
}
